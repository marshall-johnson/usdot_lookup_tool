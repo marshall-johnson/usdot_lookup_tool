{
 "cells": [
  {
   "cell_type": "code",
   "execution_count": 13,
   "metadata": {},
   "outputs": [],
   "source": [
    "import requests"
   ]
  },
  {
   "cell_type": "code",
   "execution_count": 1,
   "metadata": {},
   "outputs": [],
   "source": [
    "dot_number = 2341248\n",
    "api_key = \"618d77d12187afe209191ae234b7b67c95773773\" #\"56870790c976de3a493da42fa41154ba76f1dd63\"\n",
    "base_path = \"https://mobile.fmcsa.dot.gov/qc/services\"\n",
    "endpoint = f\"/carriers/{dot_number}\"\n",
    "webkey_path = f\"?webKey={api_key}\"\n"
   ]
  },
  {
   "cell_type": "code",
   "execution_count": 19,
   "metadata": {},
   "outputs": [
    {
     "data": {
      "text/plain": [
       "{'content': {'_links': {'basics': {'href': 'https://mobile.fmcsa.dot.gov/qc/services/carriers/2341248/basics'},\n",
       "   'cargo carried': {'href': 'https://mobile.fmcsa.dot.gov/qc/services/carriers/2341248/cargo-carried'},\n",
       "   'operation classification': {'href': 'https://mobile.fmcsa.dot.gov/qc/services/carriers/2341248/operation-classification'},\n",
       "   'docket numbers': {'href': 'https://mobile.fmcsa.dot.gov/qc/services/carriers/2341248/docket-numbers'},\n",
       "   'carrier active-For-hire authority': {'href': 'https://mobile.fmcsa.dot.gov/qc/services/carriers/2341248/authority'},\n",
       "   'self': {'href': 'https://mobile.fmcsa.dot.gov/qc/services/carriers/2341248'}},\n",
       "  'carrier': {'allowedToOperate': 'Y',\n",
       "   'bipdInsuranceOnFile': '750',\n",
       "   'bipdInsuranceRequired': 'Y',\n",
       "   'bipdRequiredAmount': '750',\n",
       "   'bondInsuranceOnFile': '0',\n",
       "   'bondInsuranceRequired': 'u',\n",
       "   'brokerAuthorityStatus': 'N',\n",
       "   'cargoInsuranceOnFile': '0',\n",
       "   'cargoInsuranceRequired': 'u',\n",
       "   'carrierOperation': {'carrierOperationCode': 'A',\n",
       "    'carrierOperationDesc': 'Interstate'},\n",
       "   'censusTypeId': {'censusType': 'C',\n",
       "    'censusTypeDesc': 'CARRIER',\n",
       "    'censusTypeId': 1},\n",
       "   'commonAuthorityStatus': 'A',\n",
       "   'contractAuthorityStatus': 'N',\n",
       "   'crashTotal': 6,\n",
       "   'dbaName': None,\n",
       "   'dotNumber': 2341248,\n",
       "   'driverInsp': 42,\n",
       "   'driverOosInsp': 0,\n",
       "   'driverOosRate': 0,\n",
       "   'driverOosRateNationalAverage': '5.51',\n",
       "   'ein': 273452100,\n",
       "   'fatalCrash': 0,\n",
       "   'hazmatInsp': 0,\n",
       "   'hazmatOosInsp': 0,\n",
       "   'hazmatOosRate': 0,\n",
       "   'hazmatOosRateNationalAverage': '4.5',\n",
       "   'injCrash': 4,\n",
       "   'isPassengerCarrier': 'N',\n",
       "   'issScore': None,\n",
       "   'legalName': 'ARENCIBIA TRUCKING INC',\n",
       "   'mcs150Outdated': 'N',\n",
       "   'oosDate': None,\n",
       "   'oosRateNationalAverageYear': '2009-2010',\n",
       "   'phyCity': 'MORENO VALLEY',\n",
       "   'phyCountry': 'US',\n",
       "   'phyState': 'CA',\n",
       "   'phyStreet': '22620 GOLDENCREST DR UNIT D-120',\n",
       "   'phyZipcode': '92553',\n",
       "   'reviewDate': '2023-04-06',\n",
       "   'reviewType': 'N',\n",
       "   'safetyRating': None,\n",
       "   'safetyRatingDate': None,\n",
       "   'safetyReviewDate': '2023-04-06',\n",
       "   'safetyReviewType': 'N',\n",
       "   'snapshotDate': None,\n",
       "   'statusCode': 'A',\n",
       "   'totalDrivers': 65,\n",
       "   'totalPowerUnits': 65,\n",
       "   'towawayCrash': 2,\n",
       "   'vehicleInsp': 52,\n",
       "   'vehicleOosInsp': 11,\n",
       "   'vehicleOosRate': 21.153846153846153,\n",
       "   'vehicleOosRateNationalAverage': '20.72'}},\n",
       " 'retrievalDate': '2025-03-10T04:53:02.299+0000'}"
      ]
     },
     "execution_count": 19,
     "metadata": {},
     "output_type": "execute_result"
    }
   ],
   "source": [
    "requests.get(base_path + endpoint + webkey_path).json()\n",
    "    "
   ]
  },
  {
   "cell_type": "code",
   "execution_count": 12,
   "metadata": {},
   "outputs": [
    {
     "data": {
      "text/plain": [
       "{'content': [{'carrierAuthority': {'applicantID': 1755866,\n",
       "    'authority': 'N',\n",
       "    'authorizedForBroker': 'N',\n",
       "    'authorizedForHouseholdGoods': 'N',\n",
       "    'authorizedForPassenger': 'N',\n",
       "    'authorizedForProperty': 'Y',\n",
       "    'brokerAuthorityStatus': 'N',\n",
       "    'commonAuthorityStatus': 'A',\n",
       "    'contractAuthorityStatus': 'N',\n",
       "    'docketNumber': 1652339,\n",
       "    'dotNumber': 4259408,\n",
       "    'prefix': 'MC'},\n",
       "   '_links': {'self': {'href': 'https://mobile.fmcsa.dot.gov/qc/services/carriers/4259408/authority/1755866'}}}],\n",
       " 'retrievalDate': '2025-03-10T04:29:18.010+0000'}"
      ]
     },
     "execution_count": 12,
     "metadata": {},
     "output_type": "execute_result"
    }
   ],
   "source": [
    "requests.get(base_path + f\"/carriers/{dot_number}/authority\" + webkey_path).json()\n"
   ]
  },
  {
   "cell_type": "code",
   "execution_count": 20,
   "metadata": {},
   "outputs": [
    {
     "name": "stdout",
     "output_type": "stream",
     "text": [
      "Collecting python-safer\n",
      "  Downloading python_safer-2.0-py3-none-any.whl.metadata (6.5 kB)\n",
      "Requirement already satisfied: lxml in /opt/anaconda3/lib/python3.12/site-packages (from python-safer) (5.2.1)\n",
      "Requirement already satisfied: requests in /opt/anaconda3/lib/python3.12/site-packages (from python-safer) (2.32.3)\n",
      "Requirement already satisfied: python-dateutil in /opt/anaconda3/lib/python3.12/site-packages (from python-safer) (2.9.0.post0)\n",
      "Requirement already satisfied: six>=1.5 in /opt/anaconda3/lib/python3.12/site-packages (from python-dateutil->python-safer) (1.16.0)\n",
      "Requirement already satisfied: charset-normalizer<4,>=2 in /opt/anaconda3/lib/python3.12/site-packages (from requests->python-safer) (3.3.2)\n",
      "Requirement already satisfied: idna<4,>=2.5 in /opt/anaconda3/lib/python3.12/site-packages (from requests->python-safer) (3.7)\n",
      "Requirement already satisfied: urllib3<3,>=1.21.1 in /opt/anaconda3/lib/python3.12/site-packages (from requests->python-safer) (2.2.3)\n",
      "Requirement already satisfied: certifi>=2017.4.17 in /opt/anaconda3/lib/python3.12/site-packages (from requests->python-safer) (2024.12.14)\n",
      "Downloading python_safer-2.0-py3-none-any.whl (12 kB)\n",
      "Installing collected packages: python-safer\n",
      "Successfully installed python-safer-2.0\n"
     ]
    }
   ],
   "source": [
    "!pip install python-safer"
   ]
  },
  {
   "cell_type": "code",
   "execution_count": 1,
   "metadata": {},
   "outputs": [
    {
     "name": "stdout",
     "output_type": "stream",
     "text": [
      "Collecting flatten-dict\n",
      "  Downloading flatten_dict-0.4.2-py2.py3-none-any.whl.metadata (9.2 kB)\n",
      "Requirement already satisfied: six<2.0,>=1.12 in /opt/anaconda3/lib/python3.12/site-packages (from flatten-dict) (1.16.0)\n",
      "Downloading flatten_dict-0.4.2-py2.py3-none-any.whl (9.7 kB)\n",
      "Installing collected packages: flatten-dict\n",
      "Successfully installed flatten-dict-0.4.2\n"
     ]
    }
   ],
   "source": [
    "!pip install flatten-dict"
   ]
  },
  {
   "cell_type": "code",
   "execution_count": 2,
   "metadata": {},
   "outputs": [],
   "source": [
    "from safer import CompanySnapshot\n",
    "from flatten_dict import flatten\n",
    "import json\n",
    "\n",
    "client = CompanySnapshot()\n",
    "\n",
    "results = client.get_by_usdot_number(2341248)\n",
    "\n",
    "\n",
    "# flatten json object\n",
    "flat = flatten(results.to_dict(), reducer='underscore')"
   ]
  },
  {
   "cell_type": "code",
   "execution_count": null,
   "metadata": {},
   "outputs": [
    {
     "data": {
      "text/plain": [
       "{'entity_type': 'CARRIER',\n",
       " 'usdot_status': 'ACTIVE',\n",
       " 'legal_name': 'ARENCIBIA TRUCKING INC',\n",
       " 'dba_name': None,\n",
       " 'physical_address': '22620 GOLDENCREST DR UNIT D-120 MORENO VALLEY, CA  92553',\n",
       " 'phone': '(424) 263-4018',\n",
       " 'mailing_address': '22620 GOLDENCREST DR UNIT D120 MORENO VALLEY, CA  92553',\n",
       " 'usdot': '2341248',\n",
       " 'state_carrier_id': None,\n",
       " 'mc_mx_ff_numbers': 'MC-799444',\n",
       " 'duns_number': None,\n",
       " 'power_units': 65,\n",
       " 'drivers': 65,\n",
       " 'mcs_150_form_date': '03/10/2025',\n",
       " 'mcs_150_mileage_year_mileage': 5496530,\n",
       " 'mcs_150_mileage_year_year': 2023,\n",
       " 'out_of_service_date': None,\n",
       " 'operating_authority_status': 'AUTHORIZED FOR Property',\n",
       " 'operation_classification': ['Auth. For Hire'],\n",
       " 'carrier_operation': ['Interstate'],\n",
       " 'hm_shipper_operation': None,\n",
       " 'cargo_carried': ['General Freight', 'Intermodal Cont.'],\n",
       " 'united_states_inspections_vehicle_inspections': '52',\n",
       " 'united_states_inspections_vehicle_out_of_service': '11',\n",
       " 'united_states_inspections_vehicle_out_of_service_percent': '21.2%',\n",
       " 'united_states_inspections_vehicle_national_average': '22.26%',\n",
       " 'united_states_inspections_driver_inspections': '42',\n",
       " 'united_states_inspections_driver_out_of_service': '0',\n",
       " 'united_states_inspections_driver_out_of_service_percent': '0%',\n",
       " 'united_states_inspections_driver_national_average': '6.67%',\n",
       " 'united_states_inspections_hazmat_inspections': '0',\n",
       " 'united_states_inspections_hazmat_out_of_service': '0',\n",
       " 'united_states_inspections_hazmat_out_of_service_percent': '%',\n",
       " 'united_states_inspections_hazmat_national_average': '4.44%',\n",
       " 'united_states_inspections_iep_inspections': '0',\n",
       " 'united_states_inspections_iep_out_of_service': '0',\n",
       " 'united_states_inspections_iep_out_of_service_percent': '0%',\n",
       " 'united_states_inspections_iep_national_average': 'N/A',\n",
       " 'united_states_crashes_tow': 2,\n",
       " 'united_states_crashes_fatal': 0,\n",
       " 'united_states_crashes_injury': 4,\n",
       " 'united_states_crashes_total': 6,\n",
       " 'canada_inspections_driver_out_of_service': 0,\n",
       " 'canada_inspections_driver_out_of_service_percent': '0%',\n",
       " 'canada_inspections_driver_inspections': 0,\n",
       " 'canada_inspections_vehicle_out_of_service': 0,\n",
       " 'canada_inspections_vehicle_out_of_service_percent': '0%',\n",
       " 'canada_inspections_vehicle_inspections': 0,\n",
       " 'canada_crashes_tow': 0,\n",
       " 'canada_crashes_fatal': 0,\n",
       " 'canada_crashes_injury': 0,\n",
       " 'canada_crashes_total': 0,\n",
       " 'safety_rating_date': None,\n",
       " 'safety_review_date': None,\n",
       " 'safety_rating': None,\n",
       " 'safety_type': None,\n",
       " 'latest_update': '03/13/2025',\n",
       " 'us_inspections_driver_out_of_service': 0,\n",
       " 'us_inspections_driver_out_of_service_percent': '0%',\n",
       " 'us_inspections_driver_national_average': '6.67%',\n",
       " 'us_inspections_driver_inspections': 42,\n",
       " 'us_inspections_vehicle_out_of_service': 11,\n",
       " 'us_inspections_vehicle_out_of_service_percent': '21.2%',\n",
       " 'us_inspections_vehicle_national_average': '22.26%',\n",
       " 'us_inspections_vehicle_inspections': 52,\n",
       " 'us_inspections_hazmat_out_of_service': 0,\n",
       " 'us_inspections_hazmat_out_of_service_percent': '%',\n",
       " 'us_inspections_hazmat_national_average': '4.44%',\n",
       " 'us_inspections_hazmat_inspections': 0,\n",
       " 'us_inspections_iep_out_of_service': 0,\n",
       " 'us_inspections_iep_out_of_service_percent': '0%',\n",
       " 'us_inspections_iep_national_average': 'N/A',\n",
       " 'us_inspections_iep_inspections': 0,\n",
       " 'url': 'http://safer.fmcsa.dot.gov/query.asp?searchtype=ANY&query_type=queryCarrierSnapshot&query_param=USDOT&original_query_param=NAME&query_string=2341248'}"
      ]
     },
     "execution_count": 3,
     "metadata": {},
     "output_type": "execute_result"
    }
   ],
   "source": [
    "flat"
   ]
  },
  {
   "cell_type": "code",
   "execution_count": 6,
   "metadata": {},
   "outputs": [
    {
     "data": {
      "text/plain": [
       "'General Freight, Intermodal Cont.'"
      ]
     },
     "execution_count": 6,
     "metadata": {},
     "output_type": "execute_result"
    }
   ],
   "source": [
    "', '.join(flat[\"cargo_carried\"])"
   ]
  },
  {
   "cell_type": "code",
   "execution_count": 6,
   "metadata": {},
   "outputs": [
    {
     "data": {
      "text/plain": [
       "{'entity_type': 'CARRIER',\n",
       " 'usdot_status': 'ACTIVE',\n",
       " 'legal_name': 'ARENCIBIA TRUCKING INC',\n",
       " 'dba_name': None,\n",
       " 'physical_address': '22620 GOLDENCREST DR UNIT D-120 MORENO VALLEY, CA  92553',\n",
       " 'phone': '(424) 263-4018',\n",
       " 'mailing_address': '22620 GOLDENCREST DR UNIT D120 MORENO VALLEY, CA  92553',\n",
       " 'usdot': '2341248',\n",
       " 'state_carrier_id': None,\n",
       " 'mc_mx_ff_numbers': 'MC-799444',\n",
       " 'duns_number': None,\n",
       " 'power_units': 65,\n",
       " 'drivers': 65,\n",
       " 'mcs_150_form_date': '03/10/2025',\n",
       " 'mcs_150_mileage_year': {'mileage': 5496530, 'year': 2023},\n",
       " 'out_of_service_date': None,\n",
       " 'operating_authority_status': 'AUTHORIZED FOR Property',\n",
       " 'operation_classification': ['Auth. For Hire'],\n",
       " 'carrier_operation': ['Interstate'],\n",
       " 'hm_shipper_operation': None,\n",
       " 'cargo_carried': ['General Freight', 'Intermodal Cont.'],\n",
       " 'united_states_inspections': {'vehicle': {'inspections': '52',\n",
       "   'out_of_service': '11',\n",
       "   'out_of_service_percent': '21.2%',\n",
       "   'national_average': '22.26%'},\n",
       "  'driver': {'inspections': '42',\n",
       "   'out_of_service': '0',\n",
       "   'out_of_service_percent': '0%',\n",
       "   'national_average': '6.67%'},\n",
       "  'hazmat': {'inspections': '0',\n",
       "   'out_of_service': '0',\n",
       "   'out_of_service_percent': '%',\n",
       "   'national_average': '4.44%'},\n",
       "  'iep': {'inspections': '0',\n",
       "   'out_of_service': '0',\n",
       "   'out_of_service_percent': '0%',\n",
       "   'national_average': 'N/A'}},\n",
       " 'united_states_crashes': {'tow': 2, 'fatal': 0, 'injury': 4, 'total': 6},\n",
       " 'canada_inspections': {'driver': {'out_of_service': 0,\n",
       "   'out_of_service_percent': '0%',\n",
       "   'inspections': 0},\n",
       "  'vehicle': {'out_of_service': 0,\n",
       "   'out_of_service_percent': '0%',\n",
       "   'inspections': 0}},\n",
       " 'canada_crashes': {'tow': 0, 'fatal': 0, 'injury': 0, 'total': 0},\n",
       " 'safety_rating_date': None,\n",
       " 'safety_review_date': None,\n",
       " 'safety_rating': None,\n",
       " 'safety_type': None,\n",
       " 'latest_update': '03/10/2025',\n",
       " 'us_inspections': {'driver': {'out_of_service': 0,\n",
       "   'out_of_service_percent': '0%',\n",
       "   'national_average': '6.67%',\n",
       "   'inspections': 42},\n",
       "  'vehicle': {'out_of_service': 11,\n",
       "   'out_of_service_percent': '21.2%',\n",
       "   'national_average': '22.26%',\n",
       "   'inspections': 52},\n",
       "  'hazmat': {'out_of_service': 0,\n",
       "   'out_of_service_percent': '%',\n",
       "   'national_average': '4.44%',\n",
       "   'inspections': 0},\n",
       "  'iep': {'out_of_service': 0,\n",
       "   'out_of_service_percent': '0%',\n",
       "   'national_average': 'N/A',\n",
       "   'inspections': 0}},\n",
       " 'url': 'http://safer.fmcsa.dot.gov/query.asp?searchtype=ANY&query_type=queryCarrierSnapshot&query_param=USDOT&original_query_param=NAME&query_string=2341248'}"
      ]
     },
     "execution_count": 6,
     "metadata": {},
     "output_type": "execute_result"
    }
   ],
   "source": [
    "results.to_dict()"
   ]
  },
  {
   "cell_type": "code",
   "execution_count": null,
   "metadata": {},
   "outputs": [],
   "source": []
  }
 ],
 "metadata": {
  "kernelspec": {
   "display_name": "base",
   "language": "python",
   "name": "python3"
  },
  "language_info": {
   "codemirror_mode": {
    "name": "ipython",
    "version": 3
   },
   "file_extension": ".py",
   "mimetype": "text/x-python",
   "name": "python",
   "nbconvert_exporter": "python",
   "pygments_lexer": "ipython3",
   "version": "3.12.7"
  }
 },
 "nbformat": 4,
 "nbformat_minor": 2
}
